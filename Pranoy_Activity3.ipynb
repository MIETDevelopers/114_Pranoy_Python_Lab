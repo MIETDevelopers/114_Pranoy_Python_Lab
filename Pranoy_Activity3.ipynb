{
 "cells": [
  {
   "cell_type": "code",
   "execution_count": 25,
   "id": "70180991",
   "metadata": {},
   "outputs": [
    {
     "name": "stdout",
     "output_type": "stream",
     "text": [
      "Characters are: 20\n",
      "False\n",
      "Enter starting range: 0\n",
      "Enter ending range: 23\n",
      "Welcome to Python World\n"
     ]
    }
   ],
   "source": [
    "string=\"Welcome to Python World\";\n",
    "count=0;\n",
    "for i in string:\n",
    "    if(i.isalpha()):\n",
    "        count=count+1;\n",
    "print(\"Characters are: \"+str(count));\n",
    "\n",
    "string=\"Welcome to Python World\"\n",
    "print(string.isalnum())\n",
    "\n",
    "\n",
    "string=\"Welcome to Python World\"\n",
    "p=int(input(\"Enter starting range: \"))\n",
    "b=int(input(\"Enter ending range: \"))\n",
    "print(string[p:b])\n",
    "        \n"
   ]
  },
  {
   "cell_type": "code",
   "execution_count": 4,
   "id": "70fbec66",
   "metadata": {},
   "outputs": [
    {
     "name": "stdout",
     "output_type": "stream",
     "text": [
      "False\n"
     ]
    }
   ],
   "source": [
    "string=\"Welcome to Python World\"\n",
    "print(string.isalnum())"
   ]
  },
  {
   "cell_type": "code",
   "execution_count": 14,
   "id": "6c611671",
   "metadata": {},
   "outputs": [
    {
     "name": "stdout",
     "output_type": "stream",
     "text": [
      "Enter starting range: 0\n",
      "Enter ending range: 23\n",
      "Welcome to Python World\n"
     ]
    }
   ],
   "source": [
    "string=\"Welcome to Python World\"\n",
    "p=int(input(\"Enter starting range: \"))\n",
    "b=int(input(\"Enter ending range: \"))\n",
    "print(string[p:b])"
   ]
  },
  {
   "cell_type": "code",
   "execution_count": null,
   "id": "f211fee6",
   "metadata": {},
   "outputs": [],
   "source": []
  }
 ],
 "metadata": {
  "kernelspec": {
   "display_name": "Python 3 (ipykernel)",
   "language": "python",
   "name": "python3"
  },
  "language_info": {
   "codemirror_mode": {
    "name": "ipython",
    "version": 3
   },
   "file_extension": ".py",
   "mimetype": "text/x-python",
   "name": "python",
   "nbconvert_exporter": "python",
   "pygments_lexer": "ipython3",
   "version": "3.9.12"
  }
 },
 "nbformat": 4,
 "nbformat_minor": 5
}
